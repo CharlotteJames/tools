{
 "cells": [
  {
   "cell_type": "markdown",
   "metadata": {
    "collapsed": true
   },
   "source": [
    "In this tutorial, we use the Python package Tweepy to collect a user's public tweets."
   ]
  },
  {
   "cell_type": "markdown",
   "metadata": {
    "collapsed": true
   },
   "source": [
    "## Tutorial contents\n",
    "* [Providing authorization to the Twitter API](#Providing-authorization-to-the-Twitter-API)\n",
    "* [Collecting tweets](#Collecting-tweets)\n",
    "* [Getting information about an account](#Getting-information-about-an-account)\n",
    "* [Getting follower IDs](#Getting-follower-IDs) \n",
    "* [Getting the IDs of users being followed by a specified account](#Getting-the-IDs-of-users-being-followed-by a-specified-account) \n",
    "* [Getting tweets favorited by a user](#Getting-tweets-favorited-by-a-user)\n",
    "* [Getting info on friendship relations](#Getting-info-on-friendship-relations)\n",
    "* [Getting retweets of a certain status](#Getting-retweets-of-a-certain-status)\n",
    "* [Rate limits and cursor](#Rate-limits-and-cursor)"
   ]
  },
  {
   "cell_type": "markdown",
   "metadata": {},
   "source": [
    "## Providing authorization to the Twitter API\n",
    "\n",
    "The first step is to become a Twitter developer. For this you need a Twitter account yourself, and [to create a new app](https://apps.twitter.com/).\n",
    "\n",
    "Once you're a developer, you will found your access credentials under the Keys and Access Tokens tab of your new app. You will need the following fields:\n",
    "\n",
    "1. Consumer Key (API Key)\n",
    "2. Consumer Secret (API Secret)\n",
    "3. Access Token\n",
    "4. Access Token Secret\n",
    "\n",
    "Now we have access. Tweepy is a Python module which you will find in the PyPI repository\n",
    "\n",
    "    pip install tweepy\n",
    "    \n",
    "This provides a convenient front-end for the Twitter API, giving us easy access without having to venture outside of our Python environment."
   ]
  },
  {
   "cell_type": "code",
   "execution_count": 2,
   "metadata": {
    "collapsed": false
   },
   "outputs": [],
   "source": [
    "import tweepy\n",
    "\n",
    "CONSUMER_KEY        = 'your-consumer-key'\n",
    "CONSUMER_KEY_SECRET = 'your-consumer-key-secret'\n",
    "ACCESS_TOKEN        = 'your-access-token'\n",
    "ACCESS_TOKEN_SECRET = 'your-access-token-secret'\n",
    "\n",
    "auth = tweepy.OAuthHandler(CONSUMER_KEY, CONSUMER_KEY_SECRET)\n",
    "auth.set_access_token(ACCESS_TOKEN, ACCESS_TOKEN_SECRET)\n",
    "\n",
    "api = tweepy.API(auth)"
   ]
  },
  {
   "cell_type": "markdown",
   "metadata": {},
   "source": [
    "Now that we have access to the Twitter API, there are a range of different requests we can make. We can use GET to retreive information about any public users or tweets, and even POST to make changes to the account we used to authorize, such as following accounts and making tweets. All functions of the API are [thoroughly documented](https://dev.twitter.com/rest/reference), so below we will only go over a few examples of the most common tasks.  "
   ]
  },
  {
   "cell_type": "markdown",
   "metadata": {},
   "source": [
    "## Collecting tweets\n",
    "\n",
    "Statuses posted by a specified user can be collected with a [GET statuses/user_timeline](https://dev.twitter.com/rest/reference/get/statuses/user_timeline) request. We need to specify either the ID, user ID or screen name of the user, and we can include other options such as the number of statuses to retrieve, the first and last status to be collected, and whether retweets should be included or not. If provided, `count` limits the number of results returned from the search. Otherwise you will simply encounter the rate limit on the Twitter API or the end of the user's timeline. Retweets are counted towards your app rate limit. See the last section on [Rate limits and cursor](#Rate-limits-and-cursor) to learn how to handle rate limits and get more tweets using the cursor. \n",
    "\n",
    "The search returns a list of *Status* objects. "
   ]
  },
  {
   "cell_type": "code",
   "execution_count": 3,
   "metadata": {
    "collapsed": false
   },
   "outputs": [],
   "source": [
    "search = api.user_timeline(screen_name = 'david_cameron', count = 100, include_rts = True) "
   ]
  },
  {
   "cell_type": "markdown",
   "metadata": {},
   "source": [
    "Each `Status` object contains a number of relevant fields, which can be accessed with `status.[field_name]`. "
   ]
  },
  {
   "cell_type": "code",
   "execution_count": 4,
   "metadata": {
    "collapsed": false
   },
   "outputs": [
    {
     "name": "stdout",
     "output_type": "stream",
     "text": [
      "Tweet text: Wishing everyone a very happy and peaceful Christmas! https://t.co/TavD4h1ake\n"
     ]
    }
   ],
   "source": [
    "status=search[0]\n",
    "print \"Tweet text:\", status.text"
   ]
  },
  {
   "cell_type": "markdown",
   "metadata": {},
   "source": [
    "You can get a list of all the field names:  "
   ]
  },
  {
   "cell_type": "code",
   "execution_count": 5,
   "metadata": {
    "collapsed": false
   },
   "outputs": [
    {
     "name": "stdout",
     "output_type": "stream",
     "text": [
      "contributors\n",
      "truncated\n",
      "text\n",
      "is_quote_status\n",
      "in_reply_to_status_id\n",
      "id\n",
      "favorite_count\n",
      "_api\n",
      "author\n",
      "_json\n",
      "coordinates\n",
      "entities\n",
      "in_reply_to_screen_name\n",
      "id_str\n",
      "retweet_count\n",
      "in_reply_to_user_id\n",
      "favorited\n",
      "source_url\n",
      "user\n",
      "geo\n",
      "in_reply_to_user_id_str\n",
      "possibly_sensitive\n",
      "lang\n",
      "created_at\n",
      "in_reply_to_status_id_str\n",
      "place\n",
      "source\n",
      "extended_entities\n",
      "retweeted\n"
     ]
    }
   ],
   "source": [
    "for key,value in status.__dict__.items():  #same thing as `vars(status)`\n",
    "    print key"
   ]
  },
  {
   "cell_type": "markdown",
   "metadata": {},
   "source": [
    "Printing the entire content of the request is not very informative, since it contains a large amount of meta-data. And while it is useful to know how to access particular fields, often what we want is to retrieve all the information and store it somewhere for later processing. We will therefore write our search output to a file, where each line corresponds to a tweet in .json format. Note that this is one of the fields included in the `Status` object. "
   ]
  },
  {
   "cell_type": "code",
   "execution_count": 6,
   "metadata": {
    "collapsed": false
   },
   "outputs": [],
   "source": [
    "import json\n",
    "F_NAME = 'david_cameron_timeline.json'\n",
    "with open(F_NAME,'w') as f_out:\n",
    "    for status in search:\n",
    "        json.dump(status._json, f_out)\n",
    "        f_out.write('\\n')"
   ]
  },
  {
   "cell_type": "markdown",
   "metadata": {},
   "source": [
    "## Getting information about a user account\n",
    "\n",
    "We can also get detailed information about an account, such as the account description, number of followers, number of users followed, the date the account was created, location, number of tweets, a link to the profile image, number of favorites, etc. The argument needed is either `id`, `user_id` or `screen_name`. The output is a User object. We will again save the output object as a .json file.  "
   ]
  },
  {
   "cell_type": "code",
   "execution_count": 7,
   "metadata": {
    "collapsed": false
   },
   "outputs": [
    {
     "name": "stdout",
     "output_type": "stream",
     "text": [
      "Account description: Former Prime Minister of the United Kingdom\n",
      "Followers: 1611537\n"
     ]
    }
   ],
   "source": [
    "user_info = api.get_user(screen_name = 'david_cameron')\n",
    "print \"Account description:\", user_info.description\n",
    "print \"Followers:\", user_info.followers_count\n",
    "\n",
    "#for key,value in user_info.__dict__.items():  #same thing as `vars(status)`\n",
    "#    print key\n",
    "\n",
    "F_NAME = 'david_cameron_user_info.json'\n",
    "with open(F_NAME,'w') as f_out:\n",
    "    json.dump(user_info._json, f_out)"
   ]
  },
  {
   "cell_type": "markdown",
   "metadata": {},
   "source": [
    "## Getting follower IDs\n",
    "\n",
    "We can get a list of the IDs of the first 5000 users following a certain account with `api.followers([id/screen_name/user_id])`. See the [Rate limits and cursor](#Rate-limits-and-cursor) section at the end to find out how to get more than the first 100 users.  "
   ]
  },
  {
   "cell_type": "code",
   "execution_count": 8,
   "metadata": {
    "collapsed": false
   },
   "outputs": [],
   "source": [
    "followers = api.followers_ids(screen_name = 'david_cameron')\n",
    "\n",
    "#Save list of followers:\n",
    "F_NAME = 'david_cameron_followers.txt'\n",
    "with open(F_NAME,'w') as f_out:\n",
    "    for follower in followers:\n",
    "        f_out.write(\"%s\\n\" % follower)"
   ]
  },
  {
   "cell_type": "markdown",
   "metadata": {},
   "source": [
    "## Getting the IDs of users being followed by a specified account\n",
    "\n",
    "We can also get the IDs of users being followed by the specified user:"
   ]
  },
  {
   "cell_type": "code",
   "execution_count": 9,
   "metadata": {
    "collapsed": false
   },
   "outputs": [
    {
     "name": "stdout",
     "output_type": "stream",
     "text": [
      "Cameron follows 391 users.\n"
     ]
    }
   ],
   "source": [
    "friends = api.friends_ids(screen_name = 'david_cameron')\n",
    "print \"Cameron follows\", len(friends), \"users.\"\n",
    "\n",
    "F_NAME = 'followed_by_david_cameron.txt'\n",
    "with open(F_NAME,'w') as f_out:\n",
    "    for friend in friends:\n",
    "        f_out.write(\"%s\\n\" % friend)"
   ]
  },
  {
   "cell_type": "markdown",
   "metadata": {},
   "source": [
    "## Getting tweets favorited by a user\n",
    "We can get a list of tweets favorited by a user:"
   ]
  },
  {
   "cell_type": "code",
   "execution_count": 10,
   "metadata": {
    "collapsed": false
   },
   "outputs": [
    {
     "name": "stdout",
     "output_type": "stream",
     "text": [
      "Number of likes: 2\n"
     ]
    }
   ],
   "source": [
    "favorites = api.favorites(screen_name = 'david_cameron')\n",
    "print \"Number of likes:\", len(favorites)\n",
    "\n",
    "F_NAME = 'david_cameron_favorites.json'\n",
    "with open(F_NAME,'w') as f_out:\n",
    "    for favorite in favorites:\n",
    "        json.dump(favorite._json, f_out)\n",
    "        f_out.write('\\n')"
   ]
  },
  {
   "cell_type": "markdown",
   "metadata": {},
   "source": [
    "## Getting info on friendship relations\n",
    "\n",
    "We can get informaton about the existance of a friendhip between two users (a `subject user` and a `target`), and other characeristics of the relation with `api.show_friendship(source_id/source_screen_name, target_id/target_screen_name)`. "
   ]
  },
  {
   "cell_type": "code",
   "execution_count": 11,
   "metadata": {
    "collapsed": false
   },
   "outputs": [
    {
     "name": "stdout",
     "output_type": "stream",
     "text": [
      "Source(Cameron) followed by target(Exeter Q-Step)? True\n",
      "Target(Exeter Q-Step) followed by source(Cameron)? False\n"
     ]
    }
   ],
   "source": [
    "friendship=api.show_friendship(source_screen_name=\"david_cameron\", target_screen_name=\"ExeterQStep\")\n",
    "print \"Source(Cameron) followed by target(Exeter Q-Step)?\", friendship[0].followed_by\n",
    "print \"Target(Exeter Q-Step) followed by source(Cameron)?\", friendship[1].followed_by"
   ]
  },
  {
   "cell_type": "markdown",
   "metadata": {},
   "source": [
    "## Getting retweets of a certain status\n",
    "`api.retweets(id[, count])` returns up to 100 of the first retweets of a given tweet."
   ]
  },
  {
   "cell_type": "code",
   "execution_count": 12,
   "metadata": {
    "collapsed": false
   },
   "outputs": [],
   "source": [
    "retweets = api.retweets(id = 701057384869969921, count=100)\n",
    "\n",
    "F_NAME = 'status_retweets.json'\n",
    "with open(F_NAME,'w') as f_out:\n",
    "    for retweet in retweets:\n",
    "        json.dump(retweet._json, f_out)\n",
    "        f_out.write('\\n')"
   ]
  },
  {
   "cell_type": "markdown",
   "metadata": {
    "collapsed": true
   },
   "source": [
    "## Rate limits and cursor\n",
    "\n",
    "Twitter [API rate limits](https://dev.twitter.com/rest/public/rate-limiting) are limiting the number of requests you can make in a certain time frame. Tweepy can help handle these limitations. \n",
    "First, you can set a number of additional parameters in the `tweepy.api` class: \n",
    "* `retry_count` – default number of retries to attempt when error occurs\n",
    "* `retry_delay` – number of seconds to wait between retries\n",
    "* `retry_errors` – which HTTP status codes to retry\n",
    "* `wait_on_rate_limit` – Whether or not to automatically wait for rate limits to replenish\n",
    "* `wait_on_rate_limit_notify` – Whether or not to print a notification when Tweepy\n",
    "Setting the last two parameters to `True` usually handles the rate limits. \n",
    "So we can redefine our API instance with these parameters: "
   ]
  },
  {
   "cell_type": "code",
   "execution_count": 43,
   "metadata": {
    "collapsed": false
   },
   "outputs": [],
   "source": [
    "api = tweepy.API(auth, \n",
    "                 retry_count=5,\n",
    "                 retry_delay=10,\n",
    "                 retry_errors=set([401, 404, 500, 503]),\n",
    "                 wait_on_rate_limit=True,\n",
    "                 wait_on_rate_limit_notify=True)"
   ]
  },
  {
   "cell_type": "markdown",
   "metadata": {},
   "source": [
    "To handle pagination, Tweepy has the extremely helpful Cursor object. Instead of manually iterating through the pages of a user timeline, we can use the cursor: "
   ]
  },
  {
   "cell_type": "code",
   "execution_count": null,
   "metadata": {
    "collapsed": false
   },
   "outputs": [],
   "source": [
    "F_NAME = 'ExeterQStep_timeline_all.json'\n",
    "with open(F_NAME,'w') as f_out:\n",
    "    for status in search:\n",
    "        for status in tweepy.Cursor(api.user_timeline, screen_name = 'ExeterQStep', include_rts = True).items():\n",
    "            json.dump(status._json, f_out)\n",
    "            f_out.write('\\n')"
   ]
  },
  {
   "cell_type": "code",
   "execution_count": null,
   "metadata": {
    "collapsed": false
   },
   "outputs": [],
   "source": [
    "F_NAME = 'ExeterQStep_followers.txt'            \n",
    "#Save list of followers:\n",
    "with open(F_NAME,'w') as f_out:\n",
    "    for follower in tweepy.Cursor(api.followers_ids, screen_name = 'david_cameron').items():\n",
    "        f_out.write(\"%s\\n\" % follower)"
   ]
  }
 ],
 "metadata": {
  "anaconda-cloud": {},
  "kernelspec": {
   "display_name": "Python [conda env:python2]",
   "language": "python",
   "name": "conda-env-python2-py"
  },
  "language_info": {
   "codemirror_mode": {
    "name": "ipython",
    "version": 2
   },
   "file_extension": ".py",
   "mimetype": "text/x-python",
   "name": "python",
   "nbconvert_exporter": "python",
   "pygments_lexer": "ipython2",
   "version": "2.7.12"
  }
 },
 "nbformat": 4,
 "nbformat_minor": 1
}
