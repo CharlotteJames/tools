{
 "cells": [
  {
   "cell_type": "markdown",
   "metadata": {},
   "source": [
    "The EXPONet team is developing a set of tools which allow researchers to analyze information exposure over social networks. We are sharing these tools with the general public as we produce them, on this page and on the project's [GitHub page](https://github.com/EXPONetProject/tools). \n",
    "\n",
    "<br>\n",
    "Instead of providing a general purpose, off-the-shelf software package -which would be easy to use, but rigid and restrictive-, we would like to provide social science researchers the training needed to understand how these tools work, which will allow them to adapt and expand them to suit their own research interests. We are assuming that most of our readers have basic knowledge of statistics and some computer programming skills. For those who are completely new to these fields, we are listing a number of introductory resources at the end of this tutorial.    \n",
    "\n",
    "<br>\n",
    "Most of our work is conducted in Python and R. We will therefore take advantage of Jupyter Notebook's ability to handle both of these languages and we will share the tools we develop as collections of Jupyter notebooks. We aim to make our work accessible to researchers of different backgrounds, so we start with a short tutorial on how to install and start using Jupyter. \n",
    "<br>"
   ]
  },
  {
   "cell_type": "markdown",
   "metadata": {
    "collapsed": true
   },
   "source": [
    "## Tutorial contents\n",
    "* [What is Jupyter?](#What-is-Jupyter?)\n",
    "* [Installing Jupyter](#Installing-Jupyter)\n",
    "* [Running the notebook](#Running-the-notebook)\n",
    "* [Notebook structure](#Notebook-structure)\n",
    "* [Code cells](#Code-cells)\n",
    "* [Markdown cells](#Markdown-cells)\n",
    "* [Saving and exporting your document](#Saving-and-exporting-your-document)\n",
    "* [Useful resources](#Useful-resources)"
   ]
  },
  {
   "cell_type": "markdown",
   "metadata": {},
   "source": [
    "## What is Jupyter? \n",
    "\n",
    "[Jupyter](http://jupyter.org) allows you to create and share documents that contain code, results, graphs, explanatory text and equations. The project started out at as IPython Notebook (you will find a lot of useful online resources under this name), but has grown to support not only Python, but over 40 other programming languages. The name \"Jupyter\" is a combination of [Julia](http://julialang.org/), [Python](http://python.org/), and [R](https://www.r-project.org), and a full list of [available kernels](https://github.com/ipython/ipython/wiki/IPython-kernels-for-other-languages) can be found on the Jupyter documentation page. \n",
    "\n",
    "Working with Jupyter notebooks is extremely easy: you create a new notebook and edit it in your browser. A Python (or R, Julia, etc.) kernel evaluates the code you type in notebook \"cells\" and displays the result below the cell. The resulting file can be exported as HTML, Markdown, LaTeX and PDF. The notebook itself is stored in [JSON](http://json.org) format. Notebooks also [render nicely](https://github.com/blog/1995-github-jupyter-notebooks-3) on GitHub.  \n"
   ]
  },
  {
   "cell_type": "markdown",
   "metadata": {},
   "source": [
    "## Installing Jupyter\n",
    "You need to have Python installed (version 3.3 or greater, or 2.7) to be able to install Jupyter. \n",
    "\n",
    "#### A. If you don't have Python installed:\n",
    "For new Python users, it is highly recommended that you use Anaconda, which installs Python, the Jupyter Notebook, and other commonly used packages for scientific computing and data science.\n",
    "\n",
    "1. Download Anaconda. \n",
    "    You can choose whether to install Python 3.5 or 2.7. Python 3 is the future of Python, but it is not backwords compatible. Some of the packages written in Python 2 have not been updated and will not be available in Python 3. The EXPONet team is still using Python 2.7, but we will switch to Python 3 as soon as it offers all the packages that we are now using. \n",
    "2. Install the version of Anaconda which you downloaded, following the instructions on the download page.\n",
    "3. You now have Python and Jupyter notebook installed. You can start the notebook server from the command line (using Terminal on Mac/Linux, Command Prompt on Windows) by running:\n",
    "        jupyter notebook\n",
    "4. To update packages and install Python packages which were not included in Anaconda, you can use *conda*. \n",
    "    To update `conda`: \n",
    "        conda update conda\n",
    "    To see what packages are installed: \n",
    "        conda list\n",
    "    To update packages:\n",
    "        conda update --all\n",
    "    To install a package: \n",
    "        conda install rpy2\n",
    "\n",
    "#### B. If you have used Python before:\n",
    "1. You can install Jupyter using *pip*:\n",
    "        pip3 install --upgrade pip\n",
    "        pip3 install jupyter\n",
    "2. You now Jupyter Notebook installed. You can start the notebook server from the command line (using Terminal on Mac/Linux, Command Prompt on Windows) by running:\n",
    "        jupyter notebook\n",
    "4. You can also update Jypyter using `pip` (and install other packages): \n",
    "    To update Jupyter: \n",
    "        pip install --update jupyter"
   ]
  },
  {
   "cell_type": "markdown",
   "metadata": {},
   "source": [
    "## Running the notebook\n",
    "\n",
    "You can start the notebook from the command line: \n",
    "        \n",
    "        jupyter notebook\n",
    "        \n",
    "The notebook will open in your browser. You can also specify which browser to use: \n",
    "        \n",
    "        jupyter notebook --browser=chrome\n",
    "\n",
    "By default, the notebook server starts on port 8888, or, if this port is not available, to the next available one, such as 9999. You may also specify a port manually:\n",
    "\n",
    "        jupyter notebook --port 9999\n",
    "When you are done, you can kill Jupyter by hitting \"Ctrl + C\" in the terminal window. \n",
    "\n",
    "\n"
   ]
  },
  {
   "cell_type": "markdown",
   "metadata": {},
   "source": [
    "## Notebook structure\n",
    "\n",
    "You can launch Jupyter from any location in your computer. By default, it will launch in your current working directory.\n",
    "\n",
    "![](https://www.dropbox.com/s/pzjtjqijynt5xix/jupyter_home.png?raw=1)\n",
    "\n",
    "You can navigate through the files in your computer to find the one you want to edit, and click the \"Upload\" button in the upper right corner. You can also click the \"New\" button to create a new file. You will be asked to select the type of file you want to open from the dropdown menu. For example, to open a new notebook using a Python 2 kernet choose \"Python 2\" in the notebooks section. This will open a new notebook in a new window (or tab) in your browser.\n",
    "\n",
    "A Jupyter notebook consists of cells. You can specify which type of cell you want to use in the drop-down menu on top of the page, or using keyboard shortcuts. The two main types of cells that we're using are code cells and markdown cells. You can turn a cell into a text cell by hitting \"Esc, y\" and into a markdown cell by hitting \"Esc, m\". \n",
    "\n",
    "You have to press Enter or double-click on a cell to enter editing mode. You can add new cells by hitting he **+** button top of the notebook, and you can move cells up and down to change their order using the arrows. You can also use shortcuts: \"Esc, b\" to insert a cell below  and \"Esc, a\" to insert a cell above. [Here](https://www.cheatography.com/weidadeyue/cheat-sheets/jupyter-notebook/) is a list of useful Jupyter shortcuts. \n",
    "\n",
    "![](https://www.dropbox.com/s/mc7uksltzm2vex3/jupyter_new.png?raw=1)"
   ]
  },
  {
   "cell_type": "markdown",
   "metadata": {},
   "source": [
    "## Code cells\n",
    "Code cells contain the code you want to run. To execute the code in a cell, hit \"Shift+Enter\". This executes the current cell and moves on to the next one. You can also use the menu button for this, by pressing the \"play\" button on the toolbar or select \"Run\" from the \"Cell\" menu above. Another way to run the current cell if by hitting \"Ctrl+Enter\", which runs the current cell but does not select the next one. \n",
    "\n",
    "Here is an example of some simple code in a cell: "
   ]
  },
  {
   "cell_type": "code",
   "execution_count": 1,
   "metadata": {
    "collapsed": false
   },
   "outputs": [
    {
     "name": "stdout",
     "output_type": "stream",
     "text": [
      "i= 0 a= 0\n",
      "i= 1 a= 1\n",
      "i= 2 a= 3\n",
      "i= 3 a= 6\n",
      "i= 4 a= 10\n"
     ]
    }
   ],
   "source": [
    "a=0\n",
    "for i in range(5):\n",
    "    a+=i\n",
    "    print \"i=\", i, \"a=\", a"
   ]
  },
  {
   "cell_type": "markdown",
   "metadata": {},
   "source": [
    "You can edit the code and run it again until you get the desired result. \n",
    "\n",
    "Results generated by running the code in a cell are available in all other cells, including the ones above, if you execute them again. You can tell the order in which cells were executed by looking at the counter in front of them, \"In[]\"."
   ]
  },
  {
   "cell_type": "code",
   "execution_count": 2,
   "metadata": {
    "collapsed": false
   },
   "outputs": [
    {
     "name": "stdout",
     "output_type": "stream",
     "text": [
      "10\n"
     ]
    }
   ],
   "source": [
    "print(a)"
   ]
  },
  {
   "cell_type": "markdown",
   "metadata": {},
   "source": [
    "Graphs can be displayed **inline**, directly in the notebook. You can specify this option by using the `%matplotlib inline` or `%pylab inline` magic functions. "
   ]
  },
  {
   "cell_type": "code",
   "execution_count": 3,
   "metadata": {
    "collapsed": false
   },
   "outputs": [
    {
     "name": "stdout",
     "output_type": "stream",
     "text": [
      "Populating the interactive namespace from numpy and matplotlib\n"
     ]
    }
   ],
   "source": [
    "%pylab inline"
   ]
  },
  {
   "cell_type": "markdown",
   "metadata": {},
   "source": [
    "This will make all subsequently ran cells display graphs inline. "
   ]
  },
  {
   "cell_type": "code",
   "execution_count": 4,
   "metadata": {
    "collapsed": false
   },
   "outputs": [
    {
     "data": {
      "image/png": "[encoded data removed]",
      "text/plain": [
       "<matplotlib.figure.Figure at 0x7fb5b50>"
      ]
     },
     "metadata": {},
     "output_type": "display_data"
    }
   ],
   "source": [
    "import pylab as plb\n",
    "import numpy as np\n",
    "from scipy.stats import norm\n",
    "x = np.linspace(-5,5,1000)\n",
    "y = norm.pdf(x)    # for example\n",
    "plb.plot(x,y)\n",
    "plb.title('Normal distribution')\n",
    "plb.show()"
   ]
  },
  {
   "cell_type": "markdown",
   "metadata": {},
   "source": [
    "## Markdown cells\n",
    "Markdown cells contain text written in **markdown** language. [Here](https://github.com/adam-p/markdown-here/wiki/Markdown-Cheatsheet) is a good quick reference guide for markdown. You can also insert HTML into markdown cells, as well as LaTeX code, which will allow you to include mathematical expressions both inline:  $\\sum_{i=1}^ni^3=\\left(\\sum_{i=1}^n i\\right)^2$ and displayed:\n",
    "\n",
    "$$e^x = \\sum^{\\infty}_{n=0} \\frac{x^n}{n!} = 1 + x + \\frac{x^2}{2!} + \\frac{x^3}{3!} + \\cdots $$"
   ]
  },
  {
   "cell_type": "markdown",
   "metadata": {},
   "source": [
    "## Saving and exporting your document\n",
    "\n",
    "You can save your notebook as an .ipynb file. \n",
    "\n",
    "You can also export it as a LaTeX or PDF document. Multiple formats for exporting can be found in the \"File\" tab. "
   ]
  },
  {
   "cell_type": "markdown",
   "metadata": {},
   "source": [
    "## Useful resources\n",
    "- Intro to Python\n",
    "    - Official tutorial for [Python 2](https://docs.python.org/2/tutorial/) and [Python 3](https://docs.python.org/3/tutorial/)\n",
    "    - [Learn Python the Hard Way](https://books.google.co.uk/books?isbn=0133124347)\n",
    "    - [Learning Python](https://books.google.co.uk/books?isbn=1449355692)\n",
    "- Intro to R\n",
    "    - [An Introduction to R](https://cran.r-project.org/doc/manuals/R-intro.pdf)\n",
    "    - [An Introduction to Statistical Learning with Applications in R](https://books.google.com/books?isbn=1461471389)\n",
    "    \n",
    "\n"
   ]
  }
 ],
 "metadata": {
  "kernelspec": {
   "display_name": "Python 2",
   "language": "python",
   "name": "python2"
  },
  "language_info": {
   "codemirror_mode": {
    "name": "ipython",
    "version": 2
   },
   "file_extension": ".py",
   "mimetype": "text/x-python",
   "name": "python",
   "nbconvert_exporter": "python",
   "pygments_lexer": "ipython2",
   "version": "2.7.10"
  }
 },
 "nbformat": 4,
 "nbformat_minor": 1
}
